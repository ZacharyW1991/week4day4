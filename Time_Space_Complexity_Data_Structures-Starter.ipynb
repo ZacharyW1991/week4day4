{
 "cells": [
  {
   "cell_type": "markdown",
   "metadata": {},
   "source": [
    "# Time/Space Complexity - Intro to Data Structures (User Defined)\n",
    "\n",
    "### Topics to discuss today:\n",
    "\n",
    "<ul>\n",
    "    <li>Time and Space Complexity - What is it/How do we measure it</li>\n",
    "    <li>Asymptotic Analysis</li>\n",
    "    <li><strong>Data Structures</strong></li>\n",
    "    <li>Some of the popular sorting algorithms</li>\n",
    "</ul>\n",
    "\n",
    "### Data Structures to discuss:\n",
    "- Arrays\n",
    "- Stacks\n",
    "- Queues\n",
    "- Linked Lists\n",
    "    - Singly Linked Lists\n",
    "    - Traversing A Linked List\n",
    "    - Finding a node in a linked list\n",
    "    - Adding to a linked list\n",
    "- Binary Search Trees\n",
    "    - Construction\n",
    "    - Traversal\n"
   ]
  },
  {
   "cell_type": "markdown",
   "metadata": {},
   "source": [
    "## Time and Space Complexity\n",
    "\n",
    "#### What is it?\n",
    "\n",
    "Time and space complexity is the measure of how much time a given action(function) will take to solve a problem. In the same fashion, we determine how much a given data structure will need in terms of memory allocation. A problem can have multiple solutions and finding the optimal solution for the problem needs to be analyzed in time and space.\n",
    "\n",
    "#### How do we measure Time and Space Complexity?\n",
    "\n",
    "In order to measure time and space complexity we use Asymptotic analysis. The reason for this is because we need a way to measure different algorithms (functions) based on the size of their inputs in a mathmatical way. For example, we could have a function that is computed as f(n) and another that is g(n^2). All things around the function staying constant, the only thing that changes is the size of the input. Below is the chart that shows the different Asymptotic analysis formats. "
   ]
  },
  {
   "cell_type": "markdown",
   "metadata": {},
   "source": [
    "<table style=\"text-align:center;\" class=\"table table-bordered\">\n",
    "<tbody><tr>\n",
    "<td>constant</td>\n",
    "<td>−</td>\n",
    "<td>Ο(1)</td>\n",
    "</tr>\n",
    "<tr>\n",
    "<td>logarithmic</td>\n",
    "<td>−</td>\n",
    "<td>Ο(log n)</td>\n",
    "</tr>\n",
    "<tr>\n",
    "<td>linear</td>\n",
    "<td>−</td>\n",
    "<td>Ο(n)</td>\n",
    "</tr>\n",
    "<tr>\n",
    "<td>Linear Logarithmic</td>\n",
    "<td>−</td>\n",
    "<td>Ο(n log n)</td>\n",
    "</tr>\n",
    "<tr>\n",
    "<td>quadratic</td>\n",
    "<td>−</td>\n",
    "<td>Ο(n<sup>2</sup>)</td>\n",
    "</tr>\n",
    "<tr>\n",
    "<td>cubic</td>\n",
    "<td>−</td>\n",
    "<td>Ο(n<sup>3</sup>)</td>\n",
    "</tr>\n",
    "<tr>\n",
    "<td>polynomial</td>\n",
    "<td>−</td>\n",
    "<td>n<sup>Ο(1)</sup></td>\n",
    "</tr>\n",
    "<tr>\n",
    "<td>exponential</td>\n",
    "<td>−</td>\n",
    "<td>2<sup>Ο(n)</sup></td>\n",
    "</tr>\n",
    "</tbody></table>"
   ]
  },
  {
   "cell_type": "markdown",
   "metadata": {},
   "source": [
    "## Arrays"
   ]
  },
  {
   "cell_type": "markdown",
   "metadata": {},
   "source": [
    "In python we benefit from the dynamic array which means the block of memory will expand as needed for the given input to the array. In traditional arrays (depending on the type of operating system) we will usually store our inputs in 4 or 8 consecutive blocks of memory. "
   ]
  },
  {
   "cell_type": "markdown",
   "metadata": {},
   "source": [
    "## Which in python looks like this:"
   ]
  },
  {
   "cell_type": "code",
   "execution_count": 4,
   "metadata": {},
   "outputs": [
    {
     "name": "stdout",
     "output_type": "stream",
     "text": [
      "[1, 2, 3, 4, 5, 6, 7, 8, 9, 10]\n",
      "[1, 2, 3, 4, 5, 6, 7, 8, 9, 10]\n"
     ]
    }
   ],
   "source": [
    "list_of_ten=[]\n",
    "for i in range(1,11):\n",
    "    list_of_ten.append(i)\n",
    "print(list_of_ten)\n",
    "list_of_ten_comp=[i for i in range(1,11)]\n",
    "print(list_of_ten_comp)"
   ]
  },
  {
   "cell_type": "markdown",
   "metadata": {},
   "source": [
    "### Let's take a look at some of the time and space analysis of arrays"
   ]
  },
  {
   "cell_type": "code",
   "execution_count": 5,
   "metadata": {},
   "outputs": [
    {
     "name": "stdout",
     "output_type": "stream",
     "text": [
      "[97, 86, 95, 13, 48, 54, 23, 83, 74, 34]\n"
     ]
    }
   ],
   "source": [
    "import random\n",
    "my_arr=[random.randint(1,100) for _ in range(10)]\n",
    "print(my_arr)"
   ]
  },
  {
   "cell_type": "code",
   "execution_count": 11,
   "metadata": {},
   "outputs": [
    {
     "name": "stdout",
     "output_type": "stream",
     "text": [
      "48\n",
      "False\n",
      "[97, 86, 95, 13, 48, 54, 23, 83, 74, 34]\n",
      "[97, 86, 95, 1234, 48, 54, 23, 83, 74, 34]\n"
     ]
    }
   ],
   "source": [
    "#Indexing a list\n",
    "#constant time and space-O(1)\n",
    "indexing=my_arr[4]\n",
    "print(indexing)\n",
    "\n",
    "#Searching through an array\n",
    "#Linear time-O(n) and constant space-O(1)\n",
    "print(44 in my_arr)\n",
    "\n",
    "#Copying a list\n",
    "#linear time-O(n) and linear space - O(n)\n",
    "copied_arr=my_arr[:]\n",
    "print(copied_arr)\n",
    "\n",
    "#Assigning a value via index to a list\n",
    "#Constant time and constant space-O(1)\n",
    "my_arr[3]=1234\n",
    "print(my_arr)"
   ]
  },
  {
   "cell_type": "code",
   "execution_count": 14,
   "metadata": {},
   "outputs": [
    {
     "name": "stdout",
     "output_type": "stream",
     "text": [
      "1\n",
      "4\n",
      "9\n",
      "4\n",
      "16\n",
      "36\n",
      "9\n",
      "36\n",
      "81\n",
      "1\n",
      "4\n",
      "9\n"
     ]
    }
   ],
   "source": [
    "def some_func(arr):\n",
    "    for x in range(len(arr)): #Linear time O(n)\n",
    "        arr[x]=arr[x]**2 #constant time O(1)\n",
    "    for i in arr: #linear time O(n)\n",
    "        for j in arr: #linear time O(n)\n",
    "            print(i*j) #constant time O(1)\n",
    "    for r in arr: #linear time O(n)\n",
    "        print(r) #constant time O(1)\n",
    "    return arr #constant time O(n)\n",
    "some_func([1, 2, 3]) #(O(n*1)+(n*n*1)+(n*1)+(1)\n",
    "\n",
    "# O(n+n**2+n+1)\n",
    "#O(n**2+2n+1)\n",
    "#Drop all coefficients\n",
    "#O(n**2+n+1)\n",
    "#and lower order complexities\n",
    "#O(n**2)"
   ]
  },
  {
   "cell_type": "code",
   "execution_count": 15,
   "metadata": {},
   "outputs": [],
   "source": [
    "def print_all_elements(a_list):\n",
    "    num_operations=0\n",
    "    for item in a_list:\n",
    "        print(item)\n",
    "        num_operations+=1\n",
    "    print(f\"Num Operations: {num_operations}\")\n",
    "    \n",
    "def print_first_element(a_list):\n",
    "    num_operations=0\n",
    "    print(a_list[0])\n",
    "    num_operations+=1\n",
    "    print(f\"Num Operations: {num_operations}\")"
   ]
  },
  {
   "cell_type": "code",
   "execution_count": null,
   "metadata": {},
   "outputs": [],
   "source": [
    "test_list"
   ]
  },
  {
   "cell_type": "code",
   "execution_count": null,
   "metadata": {
    "scrolled": true
   },
   "outputs": [],
   "source": []
  },
  {
   "cell_type": "markdown",
   "metadata": {},
   "source": [
    "## Stacks and Queues (Review)\n",
    "\n",
    "** Stacks ** as the name suggests is a data structure that allows for data to follow the Last In First Out priciple(LIFO). Think of a stack of pancakes for example. To get the first pancake you would  start with the top and go down.\n",
    "\n",
    "##### Searching through a stack will be Linear Time O(n) - Constant Space O(1)\n",
    "##### Selecting the first item will be done in Linear Time O(n) - Constant Space O(1)\n",
    "##### Selecting the last item will be done in Constant Time O(1) - Constant Space O(1)\n",
    "##### Adding to the stack will be done in Constant Time O(1) - Constant Space O(1)\n",
    "\n",
    "** Queues ** are similar but in this case follow the First In First Out principle(FIFO). Think of this as a line in a black friday sale. The first person camped out for the big screen tv is the first to get it.\n",
    "\n",
    "##### Searching through a queue will be Linear Time O(n) - Constant Space O(1)\n",
    "##### Selecting the first item will be done in Constant Time O(1) - Constant Space O(1)\n",
    "##### Selecting the last item will be done in Linear Time O(n) - Constant Space O(1)\n",
    "##### Adding to the queue should take Constant Time O(1) - Constant Space O(1)"
   ]
  },
  {
   "cell_type": "code",
   "execution_count": 17,
   "metadata": {},
   "outputs": [],
   "source": [
    "# https://docs.python.org/3/library/collections.html#collections.deque\n",
    "from collections import deque"
   ]
  },
  {
   "cell_type": "code",
   "execution_count": 18,
   "metadata": {},
   "outputs": [
    {
     "name": "stdout",
     "output_type": "stream",
     "text": [
      "Stack:\n",
      "deque([10, 20, 30, 40, 50])\n",
      "50\n",
      "deque([10, 20, 30, 40])\n",
      "40\n",
      "deque([10, 20, 30])\n",
      "30\n",
      "deque([10, 20])\n",
      "20\n",
      "deque([10])\n",
      "10\n",
      "deque([])\n"
     ]
    }
   ],
   "source": [
    "print('Stack:')\n",
    "stack=deque()\n",
    "stack.append(10)\n",
    "stack.append(20)\n",
    "stack.append(30)\n",
    "stack.append(40)\n",
    "stack.append(50)\n",
    "print(stack)\n",
    "while stack:\n",
    "    print(stack.pop())\n",
    "    print(stack)"
   ]
  },
  {
   "cell_type": "code",
   "execution_count": 20,
   "metadata": {},
   "outputs": [
    {
     "name": "stdout",
     "output_type": "stream",
     "text": [
      "Queue:\n",
      "deque(['Brian', 'Sarah', 'Kevin', 'Sam', 'Aften'])\n",
      "Brian\n",
      "deque(['Sarah', 'Kevin', 'Sam', 'Aften'])\n",
      "Sarah\n",
      "deque(['Kevin', 'Sam', 'Aften'])\n",
      "Kevin\n",
      "deque(['Sam', 'Aften'])\n",
      "Sam\n",
      "deque(['Aften'])\n",
      "Aften\n",
      "deque([])\n"
     ]
    }
   ],
   "source": [
    "print('Queue:')\n",
    "queue=deque()\n",
    "queue.append('Brian')\n",
    "queue.append('Sarah')\n",
    "queue.append('Kevin')\n",
    "queue.append('Sam')\n",
    "queue.append('Aften')\n",
    "print(queue)\n",
    "while queue:\n",
    "    print(queue.popleft())\n",
    "    print(queue)"
   ]
  },
  {
   "cell_type": "code",
   "execution_count": 27,
   "metadata": {},
   "outputs": [
    {
     "name": "stdout",
     "output_type": "stream",
     "text": [
      "Normal List:\n",
      "['Brian', 'Sarah', 'Kevin', 'Sam', 'Aften']\n",
      "Brian\n",
      "['Sarah', 'Kevin', 'Sam', 'Aften']\n",
      "Sarah\n",
      "['Kevin', 'Sam', 'Aften']\n",
      "Kevin\n",
      "['Sam', 'Aften']\n",
      "Sam\n",
      "['Aften']\n",
      "Aften\n",
      "[]\n"
     ]
    }
   ],
   "source": [
    "print('Normal List:')\n",
    "queue=[]\n",
    "queue.append('Brian')\n",
    "queue.append('Sarah')\n",
    "queue.append('Kevin')\n",
    "queue.append('Sam')\n",
    "queue.append('Aften')\n",
    "print(queue)\n",
    "while queue:\n",
    "    print(queue.pop(0))\n",
    "    print(queue)"
   ]
  },
  {
   "cell_type": "code",
   "execution_count": 29,
   "metadata": {},
   "outputs": [],
   "source": [
    "\n",
    "import matplotlib.pyplot as plt"
   ]
  },
  {
   "cell_type": "code",
   "execution_count": null,
   "metadata": {},
   "outputs": [],
   "source": [
    "plt.plot"
   ]
  },
  {
   "cell_type": "markdown",
   "metadata": {},
   "source": [
    "## Linked List (Data Structure)\n",
    "\n",
    "A linked list is created by using the node class. We create a Node object and create another class to use this node object. We pass the appropriate values thorugh the node object to point the to the next data elements.\n",
    "\n",
    "There are some advantages and disadvantages with this data structure. **Advantages** Linked Lists can save memory because they can be flexibile with memory management which saves memory. **Disadvantages** Finding or adding to the list requires traversing the entire list."
   ]
  },
  {
   "cell_type": "code",
   "execution_count": 26,
   "metadata": {},
   "outputs": [
    {
     "name": "stdout",
     "output_type": "stream",
     "text": [
      "January\n",
      "February\n",
      "March\n"
     ]
    }
   ],
   "source": [
    "class linkedlistnode:\n",
    "    def __init__(self, value):\n",
    "        self.value=value\n",
    "        self.next=None\n",
    "    def traverse_list(self):\n",
    "        node=self\n",
    "        while node is not None:\n",
    "            print(node.value)\n",
    "            node=node.next\n",
    "            \n",
    "node1=linkedlistnode('January')\n",
    "node2=linkedlistnode('February')\n",
    "node3=linkedlistnode('March')\n",
    "\n",
    "node1.next=node2\n",
    "node2.next=node3\n",
    "\n",
    "node1.traverse_list()"
   ]
  },
  {
   "cell_type": "code",
   "execution_count": 44,
   "metadata": {},
   "outputs": [
    {
     "name": "stdout",
     "output_type": "stream",
     "text": [
      "January\n",
      "February\n",
      "March\n",
      "April\n",
      "May\n",
      "June\n",
      "July\n",
      "August\n",
      "September\n",
      "October\n",
      "November\n",
      "December\n"
     ]
    }
   ],
   "source": [
    "class Node:\n",
    "    def __init__(self, value):\n",
    "        self.value=value\n",
    "        self.next=None\n",
    "    def __str__(self):\n",
    "        return(str(self.value))\n",
    "    def __repr__(self):\n",
    "        return f\"<Node|{self.value}>\"\n",
    "class LinkedList:\n",
    "    def __init__(self, head_node=None): #points to first node\n",
    "        self.head=head_node\n",
    "        \n",
    "    def push_on(self, new_value): #)O(1)-constant time\n",
    "        #create a new node with the value passed in\n",
    "        new_node=Node(new_value)\n",
    "        new_node.next=self.head\n",
    "        #set the new node to be the front of the linked list (head attr.)\n",
    "        self.head=new_node\n",
    "        \n",
    "    #method to print out all nodes in order\n",
    "    def print_list(self):\n",
    "        node=self.head\n",
    "        while node is not None:\n",
    "            print(node)\n",
    "            node=node.next\n",
    "    def append(self, new_value): #O(n)-linear time\n",
    "        new_node=Node(new_value)\n",
    "        if self.head is None:\n",
    "            self.head=new_node\n",
    "        else:\n",
    "            node=self.head\n",
    "            while node.next is not None:\n",
    "                node=node.next\n",
    "            node.next=new_node\n",
    "    #method to get a node by value or return none\n",
    "    def get_node(self, value_to_get):\n",
    "        node_to_check=self.head\n",
    "        while node_to_check is not None:\n",
    "            if node_to_check.value==value_to_get:\n",
    "                return node_to_check\n",
    "            node_to_check=node_to_check.next\n",
    "        return None\n",
    "    \n",
    "    def insert_after(self, prev_value, new_value):\n",
    "        prev_node=self.get_node(prev_value)\n",
    "        if prev_node is None:\n",
    "            print(f\"{prev_value} is not in linked list\")\n",
    "        else:\n",
    "            new_node=Node(new_value)\n",
    "            new_node.next=prev_node.next\n",
    "            prev_node.next=new_node\n",
    "    \n",
    "months=LinkedList()\n",
    "months.append('July')\n",
    "months.push_on('June')\n",
    "months.push_on('May')\n",
    "months.push_on('March')\n",
    "months.push_on('January')\n",
    "months.append('August')\n",
    "months.insert_after('March', 'April')\n",
    "months.insert_after('January', 'February')\n",
    "months.append('September')\n",
    "months.append('November')\n",
    "months.insert_after('September', 'October')\n",
    "months.append('December')\n",
    "months.print_list()\n",
    "\n"
   ]
  },
  {
   "cell_type": "code",
   "execution_count": 42,
   "metadata": {},
   "outputs": [
    {
     "name": "stdout",
     "output_type": "stream",
     "text": [
      "May\n",
      "None\n"
     ]
    }
   ],
   "source": [
    "may=months.get_node(\"May\")\n",
    "print(may)\n",
    "march=months.get_node(\"April\")\n",
    "print(march)"
   ]
  },
  {
   "cell_type": "code",
   "execution_count": 46,
   "metadata": {},
   "outputs": [],
   "source": [
    "import time"
   ]
  },
  {
   "cell_type": "code",
   "execution_count": 47,
   "metadata": {},
   "outputs": [
    {
     "name": "stdout",
     "output_type": "stream",
     "text": [
      "Appending 1000 elements 0.022841930389404297\n",
      "Pushing 1000 elements 0.002001523971557617\n"
     ]
    }
   ],
   "source": [
    "# Adding a new node the end of the list - O(n) - Linear Time\n",
    "a_linked_list = LinkedList()\n",
    "\n",
    "start = time.time()\n",
    "\n",
    "for i in range(1000):\n",
    "    a_linked_list.append(i)\n",
    "\n",
    "end = time.time()\n",
    "\n",
    "print('Appending 1000 elements', end - start)\n",
    "\n",
    "# Adding a new node to the beginning of the list - O(1) - Constant Time\n",
    "b_linked_list = LinkedList()\n",
    "\n",
    "start = time.time()\n",
    "\n",
    "for i in range(1000):\n",
    "    b_linked_list.push_on(i)\n",
    "\n",
    "end = time.time()\n",
    "\n",
    "print('Pushing 1000 elements', end - start)"
   ]
  },
  {
   "cell_type": "code",
   "execution_count": 48,
   "metadata": {},
   "outputs": [
    {
     "name": "stdout",
     "output_type": "stream",
     "text": [
      "0.0\n",
      "0.001001119613647461\n"
     ]
    }
   ],
   "source": [
    "# Adding to the end of Python's built in list - O(1) - Constant Time\n",
    "normal_list_a = []\n",
    "\n",
    "start = time.time()\n",
    "\n",
    "for i in range(1000):\n",
    "    normal_list_a.append(i)\n",
    "\n",
    "end = time.time()\n",
    "\n",
    "print(end - start)\n",
    "\n",
    "# Adding a to the beginning of Python's built in list - O(n) - Linear Time\n",
    "normal_list_b = []\n",
    "\n",
    "start = time.time()\n",
    "\n",
    "for i in range(1000):\n",
    "    normal_list_b.insert(0, i)\n",
    "\n",
    "end = time.time()\n",
    "\n",
    "print(end - start)"
   ]
  },
  {
   "cell_type": "markdown",
   "metadata": {},
   "source": [
    "## Binary Search Trees"
   ]
  },
  {
   "cell_type": "code",
   "execution_count": 63,
   "metadata": {},
   "outputs": [
    {
     "name": "stdout",
     "output_type": "stream",
     "text": [
      "<BST|65>\n",
      "<BST|15>\n",
      "None\n",
      "75\n",
      "15\n"
     ]
    }
   ],
   "source": [
    "class BST:\n",
    "    def __init__(self, value):\n",
    "        self.value=value\n",
    "        self.left=None\n",
    "        self.right=None\n",
    "        \n",
    "    def __repr__(self):\n",
    "        return f\"<BST|{self.value}>\"\n",
    "    def insert(self, new_value):\n",
    "        if new_value<self.value:\n",
    "            if self.left is None:\n",
    "                self.left=BST(new_value)\n",
    "            else:\n",
    "                self.left.insert(new_value)\n",
    "        else:\n",
    "            if self.right is None:\n",
    "                self.right=BST(new_value)\n",
    "            else:\n",
    "                self.right.insert(new_value)\n",
    "    def find_node(self, target):\n",
    "        if target==self.value:\n",
    "            return self\n",
    "        elif target<self.value:\n",
    "            if self.left is None:\n",
    "                return None\n",
    "            else:\n",
    "                return self.left.find_node(target)\n",
    "        elif target>self.value:\n",
    "            if self.right is None:\n",
    "                return None\n",
    "            else:\n",
    "                return self.right.find_node(target)\n",
    "    def get_max_value(self):\n",
    "        if self.right is None:\n",
    "            return self.value\n",
    "        else:\n",
    "            return self.right.get_max_value()\n",
    "    def get_min_value(self):\n",
    "        if self.left is None:\n",
    "            return self.value\n",
    "        else:\n",
    "            return self.left.get_min_value()\n",
    "tree=BST(50)\n",
    "tree.insert(25)\n",
    "tree.insert(15)\n",
    "tree.insert(28)\n",
    "tree.insert(75)\n",
    "tree.insert(65)\n",
    "tree.insert(68)\n",
    "print(tree.find_node(65))\n",
    "print(tree.find_node(15))\n",
    "print(tree.find_node(49))\n",
    "print(tree.get_max_value())\n",
    "print(tree.get_min_value())"
   ]
  },
  {
   "cell_type": "code",
   "execution_count": null,
   "metadata": {},
   "outputs": [],
   "source": []
  },
  {
   "cell_type": "code",
   "execution_count": null,
   "metadata": {},
   "outputs": [],
   "source": []
  },
  {
   "cell_type": "code",
   "execution_count": null,
   "metadata": {},
   "outputs": [],
   "source": []
  },
  {
   "cell_type": "markdown",
   "metadata": {},
   "source": [
    "# Homework"
   ]
  },
  {
   "cell_type": "markdown",
   "metadata": {},
   "source": [
    "#### Problem 1: Add a .remove method to the LinkedList\n",
    "\n",
    "Update the `.remove` method to the LinkedList class to remove a node from the list.\n",
    "\n",
    "The method should take in the value to remove and remove the node with that value from the LinkedList."
   ]
  },
  {
   "cell_type": "code",
   "execution_count": 4,
   "metadata": {
    "scrolled": true
   },
   "outputs": [
    {
     "name": "stdout",
     "output_type": "stream",
     "text": [
      "Sunday\n",
      "Monday\n",
      "Wednesday\n",
      "Thursday\n",
      "Friday\n",
      "Saturday\n"
     ]
    }
   ],
   "source": [
    "class Node:\n",
    "    def __init__(self, value):\n",
    "        self.value = value\n",
    "        self.next = None\n",
    "        \n",
    "    def __str__(self):\n",
    "        return str(self.value)\n",
    "    \n",
    "    def __repr__(self):\n",
    "        return f\"<Node|{self.value}>\"\n",
    "\n",
    "class LinkedList:\n",
    "    def __init__(self, head_node=None):\n",
    "        self.head = head_node\n",
    "        \n",
    "    def push_on(self, new_value):\n",
    "        new_node = Node(new_value)\n",
    "        new_node.next = self.head\n",
    "        self.head = new_node\n",
    "        \n",
    "    def traverse_list(self):\n",
    "        node = self.head\n",
    "        while node is not None:\n",
    "            print(node)\n",
    "            node = node.next\n",
    "            \n",
    "    def append(self, new_value):\n",
    "        new_node = Node(new_value)\n",
    "        if self.head is None:\n",
    "            self.head = new_node\n",
    "        else:\n",
    "            node = self.head\n",
    "            while node.next is not None:\n",
    "                node = node.next\n",
    "            node.next = new_node\n",
    "            \n",
    "    def get_node(self, value_to_get):\n",
    "        node_to_check = self.head\n",
    "        while node_to_check is not None:\n",
    "            if node_to_check.value == value_to_get:\n",
    "                return node_to_check\n",
    "            node_to_check = node_to_check.next\n",
    "        return None\n",
    "    \n",
    "    def insert_after(self, prev_value, new_value):\n",
    "        prev_node = self.get_node(prev_value)\n",
    "        if prev_node is None:\n",
    "            print(f\"{prev_value} is not in the linked list.\")\n",
    "        else:\n",
    "            new_node = Node(new_value)\n",
    "            new_node.next = prev_node.next\n",
    "            prev_node.next = new_node\n",
    "            \n",
    "    def find_before(self, value_to_get):\n",
    "        node = self.head\n",
    "        while node.next is not None:\n",
    "            if node.next.value == value_to_get:\n",
    "                return node\n",
    "            node = node.next\n",
    "        return None\n",
    "            \n",
    "    def remove(self, value_to_remove):\n",
    "        node = self.head\n",
    "        if node.value==value_to_remove:\n",
    "            self.head=node.next\n",
    "        prev=None\n",
    "        while node.next is not None:\n",
    "            if node.next.value==value_to_remove:\n",
    "                prev=node\n",
    "                break\n",
    "            node=node.next\n",
    "        if prev:\n",
    "            prev.next=prev.next.next\n",
    "\n",
    "\n",
    "weekdays = LinkedList()\n",
    "list_of_days = ['Sunday', 'Monday', 'Tuesday', 'Wednesday', 'Thursday', 'Friday', 'Saturday']\n",
    "for day in list_of_days:\n",
    "    weekdays.append(day)\n",
    "\n",
    "weekdays.remove('Tuesday')\n",
    "\n",
    "weekdays.traverse_list()"
   ]
  },
  {
   "cell_type": "code",
   "execution_count": null,
   "metadata": {},
   "outputs": [],
   "source": []
  }
 ],
 "metadata": {
  "kernelspec": {
   "display_name": "Python 3 (ipykernel)",
   "language": "python",
   "name": "python3"
  },
  "language_info": {
   "codemirror_mode": {
    "name": "ipython",
    "version": 3
   },
   "file_extension": ".py",
   "mimetype": "text/x-python",
   "name": "python",
   "nbconvert_exporter": "python",
   "pygments_lexer": "ipython3",
   "version": "3.11.4"
  }
 },
 "nbformat": 4,
 "nbformat_minor": 2
}
